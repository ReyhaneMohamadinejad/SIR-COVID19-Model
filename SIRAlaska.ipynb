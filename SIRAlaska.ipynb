{
 "cells": [
  {
   "cell_type": "code",
   "execution_count": 13,
   "id": "f88fb6ee-5204-4cb1-9f8f-f4843c2c3803",
   "metadata": {},
   "outputs": [],
   "source": [
    "import pandas as pd\n",
    "import numpy as np\n",
    "import matplotlib.pyplot as plt\n",
    "from scipy.integrate import odeint"
   ]
  },
  {
   "cell_type": "code",
   "execution_count": 17,
   "id": "12a0e31a-e6a1-4d01-9689-69473fee0aee",
   "metadata": {},
   "outputs": [],
   "source": [
    "df = pd.read_csv(r\"E:\\Reyhane\\Data for Project for the future\\archiveSIR\\per_location_fitted_params.csv\")"
   ]
  },
  {
   "cell_type": "code",
   "execution_count": 21,
   "id": "5bf8bf82-90af-416f-94c6-066a60fe0ce6",
   "metadata": {},
   "outputs": [
    {
     "data": {
      "text/html": [
       "<div>\n",
       "<style scoped>\n",
       "    .dataframe tbody tr th:only-of-type {\n",
       "        vertical-align: middle;\n",
       "    }\n",
       "\n",
       "    .dataframe tbody tr th {\n",
       "        vertical-align: top;\n",
       "    }\n",
       "\n",
       "    .dataframe thead th {\n",
       "        text-align: right;\n",
       "    }\n",
       "</style>\n",
       "<table border=\"1\" class=\"dataframe\">\n",
       "  <thead>\n",
       "    <tr style=\"text-align: right;\">\n",
       "      <th></th>\n",
       "      <th>Province</th>\n",
       "      <th>Country</th>\n",
       "      <th>R0</th>\n",
       "      <th>Beta</th>\n",
       "      <th>Gamma</th>\n",
       "      <th>FirstDayNum</th>\n",
       "      <th>FirstDate</th>\n",
       "      <th>FirstDayInfectedCount</th>\n",
       "      <th>PeakDayNum</th>\n",
       "      <th>PeakDate</th>\n",
       "      <th>PeakDayInfectedCount</th>\n",
       "      <th>TotalPopulation</th>\n",
       "      <th>PopFactor</th>\n",
       "      <th>EstimatedSusceptiblePopulation</th>\n",
       "      <th>Loss</th>\n",
       "    </tr>\n",
       "  </thead>\n",
       "  <tbody>\n",
       "    <tr>\n",
       "      <th>0</th>\n",
       "      <td>Alabama</td>\n",
       "      <td>US</td>\n",
       "      <td>5.483404e+14</td>\n",
       "      <td>0.298808</td>\n",
       "      <td>5.449319e-16</td>\n",
       "      <td>79</td>\n",
       "      <td>2020-03-19</td>\n",
       "      <td>50</td>\n",
       "      <td>198</td>\n",
       "      <td>2020-07-16</td>\n",
       "      <td>1619.7870</td>\n",
       "      <td>35529995.0</td>\n",
       "      <td>0.000044</td>\n",
       "      <td>1569.9100</td>\n",
       "      <td>30.506640</td>\n",
       "    </tr>\n",
       "    <tr>\n",
       "      <th>1</th>\n",
       "      <td>Alaska</td>\n",
       "      <td>US</td>\n",
       "      <td>8.128285e+01</td>\n",
       "      <td>0.311350</td>\n",
       "      <td>3.830454e-03</td>\n",
       "      <td>75</td>\n",
       "      <td>2020-03-15</td>\n",
       "      <td>3</td>\n",
       "      <td>103</td>\n",
       "      <td>2020-04-12</td>\n",
       "      <td>173.1887</td>\n",
       "      <td>35530000.0</td>\n",
       "      <td>0.000005</td>\n",
       "      <td>182.8906</td>\n",
       "      <td>1.764368</td>\n",
       "    </tr>\n",
       "    <tr>\n",
       "      <th>2</th>\n",
       "      <td>Arizona</td>\n",
       "      <td>US</td>\n",
       "      <td>8.937220e+01</td>\n",
       "      <td>0.417029</td>\n",
       "      <td>4.666209e-03</td>\n",
       "      <td>33</td>\n",
       "      <td>2020-02-02</td>\n",
       "      <td>1</td>\n",
       "      <td>100</td>\n",
       "      <td>2020-04-09</td>\n",
       "      <td>1947.1550</td>\n",
       "      <td>35529999.0</td>\n",
       "      <td>0.000058</td>\n",
       "      <td>2074.8220</td>\n",
       "      <td>26.640030</td>\n",
       "    </tr>\n",
       "    <tr>\n",
       "      <th>3</th>\n",
       "      <td>Arkansas</td>\n",
       "      <td>US</td>\n",
       "      <td>5.785776e+43</td>\n",
       "      <td>0.242557</td>\n",
       "      <td>4.192293e-45</td>\n",
       "      <td>75</td>\n",
       "      <td>2020-03-15</td>\n",
       "      <td>30</td>\n",
       "      <td>221</td>\n",
       "      <td>2020-08-08</td>\n",
       "      <td>798.1970</td>\n",
       "      <td>35530000.0</td>\n",
       "      <td>0.000022</td>\n",
       "      <td>768.8080</td>\n",
       "      <td>12.141810</td>\n",
       "    </tr>\n",
       "    <tr>\n",
       "      <th>4</th>\n",
       "      <td>California</td>\n",
       "      <td>US</td>\n",
       "      <td>3.974427e+01</td>\n",
       "      <td>0.220788</td>\n",
       "      <td>5.555213e-03</td>\n",
       "      <td>46</td>\n",
       "      <td>2020-02-15</td>\n",
       "      <td>1</td>\n",
       "      <td>112</td>\n",
       "      <td>2020-04-21</td>\n",
       "      <td>21484.4200</td>\n",
       "      <td>35529998.0</td>\n",
       "      <td>0.000685</td>\n",
       "      <td>24354.2300</td>\n",
       "      <td>68.303650</td>\n",
       "    </tr>\n",
       "  </tbody>\n",
       "</table>\n",
       "</div>"
      ],
      "text/plain": [
       "     Province Country            R0      Beta         Gamma  FirstDayNum  \\\n",
       "0     Alabama      US  5.483404e+14  0.298808  5.449319e-16           79   \n",
       "1      Alaska      US  8.128285e+01  0.311350  3.830454e-03           75   \n",
       "2     Arizona      US  8.937220e+01  0.417029  4.666209e-03           33   \n",
       "3    Arkansas      US  5.785776e+43  0.242557  4.192293e-45           75   \n",
       "4  California      US  3.974427e+01  0.220788  5.555213e-03           46   \n",
       "\n",
       "    FirstDate  FirstDayInfectedCount  PeakDayNum    PeakDate  \\\n",
       "0  2020-03-19                     50         198  2020-07-16   \n",
       "1  2020-03-15                      3         103  2020-04-12   \n",
       "2  2020-02-02                      1         100  2020-04-09   \n",
       "3  2020-03-15                     30         221  2020-08-08   \n",
       "4  2020-02-15                      1         112  2020-04-21   \n",
       "\n",
       "   PeakDayInfectedCount  TotalPopulation  PopFactor  \\\n",
       "0             1619.7870       35529995.0   0.000044   \n",
       "1              173.1887       35530000.0   0.000005   \n",
       "2             1947.1550       35529999.0   0.000058   \n",
       "3              798.1970       35530000.0   0.000022   \n",
       "4            21484.4200       35529998.0   0.000685   \n",
       "\n",
       "   EstimatedSusceptiblePopulation       Loss  \n",
       "0                       1569.9100  30.506640  \n",
       "1                        182.8906   1.764368  \n",
       "2                       2074.8220  26.640030  \n",
       "3                        768.8080  12.141810  \n",
       "4                      24354.2300  68.303650  "
      ]
     },
     "execution_count": 21,
     "metadata": {},
     "output_type": "execute_result"
    }
   ],
   "source": [
    "df.head()"
   ]
  },
  {
   "cell_type": "code",
   "execution_count": 102,
   "id": "ac110b6f-7493-4854-a648-2d70e3824ec9",
   "metadata": {},
   "outputs": [],
   "source": [
    "data = df[df[\"Province\"] == \"Alaska\"].iloc[0]"
   ]
  },
  {
   "cell_type": "code",
   "execution_count": 104,
   "id": "2f02ca4d-6012-4810-b5dd-5ba33ede3953",
   "metadata": {},
   "outputs": [
    {
     "data": {
      "text/plain": [
       "Province                              Alaska\n",
       "Country                                   US\n",
       "R0                                  81.28285\n",
       "Beta                                 0.31135\n",
       "Gamma                                0.00383\n",
       "FirstDayNum                               75\n",
       "FirstDate                         2020-03-15\n",
       "FirstDayInfectedCount                      3\n",
       "PeakDayNum                               103\n",
       "PeakDate                          2020-04-12\n",
       "PeakDayInfectedCount                173.1887\n",
       "TotalPopulation                   35530000.0\n",
       "PopFactor                           0.000005\n",
       "EstimatedSusceptiblePopulation      182.8906\n",
       "Loss                                1.764368\n",
       "Name: 1, dtype: object"
      ]
     },
     "execution_count": 104,
     "metadata": {},
     "output_type": "execute_result"
    }
   ],
   "source": [
    "data"
   ]
  },
  {
   "cell_type": "markdown",
   "id": "ac90c3f3-be4b-4cc0-960d-0b0fa263f060",
   "metadata": {},
   "source": [
    "# SIR Model"
   ]
  },
  {
   "cell_type": "code",
   "execution_count": 110,
   "id": "cf70220c-0eec-48ed-a7c9-a36c44c0db64",
   "metadata": {},
   "outputs": [],
   "source": [
    "beta = data[\"Beta\"]\n",
    "gamma = data[\"Gamma\"]\n",
    "N = data[\"TotalPopulation\"]\n",
    "I0 = data[\"FirstDayInfectedCount\"]\n",
    "S0 = N - I0\n",
    "R0 = 0"
   ]
  },
  {
   "cell_type": "code",
   "execution_count": 112,
   "id": "88db4ba6-2e34-4f7e-8fdd-7cb5ba8a73f3",
   "metadata": {},
   "outputs": [],
   "source": [
    "def sir_model(y, t, N, beta, gamma):\n",
    "    S, I, R = y\n",
    "    dSdt = -beta * S * I / N\n",
    "    dIdt = beta * S * I / N - gamma * I\n",
    "    dRdt = gamma * I\n",
    "    return [dSdt, dIdt, dRdt]"
   ]
  },
  {
   "cell_type": "code",
   "execution_count": 114,
   "id": "49d0840a-f09f-411c-96fb-7738cf633405",
   "metadata": {},
   "outputs": [],
   "source": [
    "days = 250\n",
    "t = np.linspace(0, days, days)"
   ]
  },
  {
   "cell_type": "code",
   "execution_count": 116,
   "id": "b638651d-56be-4bb7-bcb3-6a08a059b8e6",
   "metadata": {},
   "outputs": [],
   "source": [
    "y0 = [S0, I0, R0]"
   ]
  },
  {
   "cell_type": "code",
   "execution_count": 118,
   "id": "5ca0c282-4873-4b9c-b8a6-0731554a5e94",
   "metadata": {},
   "outputs": [],
   "source": [
    "solution = odeint(sir_model, y0, t, args=(N, beta, gamma))\n",
    "S, I, R = solution.T"
   ]
  },
  {
   "cell_type": "code",
   "execution_count": 120,
   "id": "eb542068-d725-40fd-84ad-234161827207",
   "metadata": {},
   "outputs": [
    {
     "data": {
      "image/png": "[encoded data removed]",
      "text/plain": [
       "<Figure size 1000x600 with 1 Axes>"
      ]
     },
     "metadata": {},
     "output_type": "display_data"
    }
   ],
   "source": [
    "plt.figure(figsize=(10, 6))\n",
    "plt.plot(t, S, label=\"Susceptible\", color=\"blue\")\n",
    "plt.plot(t, I, label=\"Infected\", color=\"red\")\n",
    "plt.plot(t, R, label=\"Recovered\", color=\"green\")\n",
    "plt.xlabel(\"Days\")\n",
    "plt.ylabel(\"Population\")\n",
    "plt.title(f\"SIR Model Simulation for {\"Alaska\"}\")\n",
    "plt.legend()\n",
    "plt.grid()\n",
    "plt.show()"
   ]
  },
  {
   "cell_type": "code",
   "execution_count": null,
   "id": "a3e39267-643c-4652-9f38-5475e55ddaab",
   "metadata": {},
   "outputs": [],
   "source": []
  }
 ],
 "metadata": {
  "kernelspec": {
   "display_name": "Python [conda env:base] *",
   "language": "python",
   "name": "conda-base-py"
  },
  "language_info": {
   "codemirror_mode": {
    "name": "ipython",
    "version": 3
   },
   "file_extension": ".py",
   "mimetype": "text/x-python",
   "name": "python",
   "nbconvert_exporter": "python",
   "pygments_lexer": "ipython3",
   "version": "3.12.7"
  }
 },
 "nbformat": 4,
 "nbformat_minor": 5
}
